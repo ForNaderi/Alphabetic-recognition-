{
  "cells": [
    {
      "cell_type": "code",
      "execution_count": null,
      "metadata": {
        "id": "aPadL2VTaFXQ"
      },
      "outputs": [],
      "source": [
        "import numpy as np\n",
        "import torch\n",
        "import torchvision\n",
        "import matplotlib.pyplot as plt\n",
        "from time import time\n",
        "from torchvision import datasets, transforms\n",
        "from torch import nn, optim"
      ]
    },
    {
      "cell_type": "code",
      "execution_count": null,
      "metadata": {
        "colab": {
          "base_uri": "https://localhost:8080/"
        },
        "id": "CPahn2uTaLFq",
        "outputId": "4ebfaf39-9559-4b7f-ddcb-4606ea7893b2"
      },
      "outputs": [
        {
          "output_type": "stream",
          "name": "stdout",
          "text": [
            "Drive already mounted at /content/gdrive; to attempt to forcibly remount, call drive.mount(\"/content/gdrive\", force_remount=True).\n"
          ]
        }
      ],
      "source": [
        "import os\n",
        "from google.colab import drive\n",
        "drive.mount('/content/gdrive')"
      ]
    },
    {
      "cell_type": "code",
      "execution_count": null,
      "metadata": {
        "id": "TZmOWvu8aMU_"
      },
      "outputs": [],
      "source": [
        "# transform images to the tensors with three color channels and dynamic range of 0 to 255 and scale down between 0 and 1 torchvision.transforms.ToTensor\n",
        "# Normalize the data with mean 0.5 and standard deviation 0.5 torchvision.transforms.Normalize\n",
        "\n",
        "transform = transforms.Compose([transforms.ToTensor(),\n",
        "                              transforms.Normalize((0.5,), (0.5,)),\n",
        "                              ])"
      ]
    },
    {
      "cell_type": "code",
      "execution_count": null,
      "metadata": {
        "id": "YuSev3MoaNgk",
        "colab": {
          "base_uri": "https://localhost:8080/"
        },
        "outputId": "d4bc7c86-cf53-4ad1-8b9b-a1848688316b"
      },
      "outputs": [
        {
          "output_type": "stream",
          "name": "stderr",
          "text": [
            "/usr/local/lib/python3.7/dist-packages/torchvision/datasets/mnist.py:57: UserWarning: test_labels has been renamed targets\n",
            "  warnings.warn(\"test_labels has been renamed targets\")\n",
            "/usr/local/lib/python3.7/dist-packages/torchvision/datasets/mnist.py:52: UserWarning: train_labels has been renamed targets\n",
            "  warnings.warn(\"train_labels has been renamed targets\")\n"
          ]
        }
      ],
      "source": [
        "# Download and create training set\n",
        "trainset = datasets.EMNIST(root=\"gdrive/MyDrive/Independept_Study_Physics_Informed_Deep_Learning/Letter_rec_EMNIST_TRAIN\", split= \"letters\", download=True, train=True, transform=transform)\n",
        "# Download and create test set\n",
        "valset = datasets.EMNIST(root=\"gdrive/MyDrive/Independept_Study_Physics_Informed_Deep_Learning/Letter_rec_EMNIST_TEST\", split=\"letters\", download=True, train=False, transform=transform)\n",
        "valset.test_labels[:] = valset.test_labels[:]-1\n",
        "trainset.train_labels[:] = trainset.train_labels[:]-1\n",
        "\n",
        "# Load train set to DataLoader with batch size of 64\n",
        "# DataLoader combines data-set and a sampler and provides single or multi process iterators over the data set\n",
        "trainloader = torch.utils.data.DataLoader(trainset, batch_size=64, shuffle=True)\n",
        "# Load test set to DataLoader\n",
        "valloader = torch.utils.data.DataLoader(valset, batch_size=64, shuffle=True)"
      ]
    },
    {
      "cell_type": "code",
      "execution_count": null,
      "metadata": {
        "colab": {
          "base_uri": "https://localhost:8080/"
        },
        "id": "Dasvhy__aOCf",
        "outputId": "3db798ca-3b73-48a3-88ae-ef5cabf98c46"
      },
      "outputs": [
        {
          "output_type": "stream",
          "name": "stdout",
          "text": [
            "<class 'torch.Tensor'>\n",
            "batch size, image pixels = torch.Size([64, 1, 28, 28])\n",
            "labels shape = torch.Size([64])\n",
            "tensor(0)\n",
            "tensor(25)\n"
          ]
        }
      ],
      "source": [
        "# check image and label tensors size\n",
        "dataiter = iter(trainloader)\n",
        "images, labels = dataiter.next()\n",
        "print(type(images))\n",
        "print('batch size, image pixels =',images.shape)\n",
        "print('labels shape =', labels.shape)\n",
        "print(min(labels))\n",
        "print(max(labels))"
      ]
    },
    {
      "cell_type": "code",
      "execution_count": null,
      "metadata": {
        "colab": {
          "base_uri": "https://localhost:8080/",
          "height": 265
        },
        "id": "tTADwoScaPUZ",
        "outputId": "e15efd38-f08f-4fbd-eabc-9d5b5c5b9650"
      },
      "outputs": [
        {
          "output_type": "display_data",
          "data": {
            "image/png": "[encoded data removed]",
            "text/plain": [
              "<Figure size 432x288 with 1 Axes>"
            ]
          },
          "metadata": {
            "needs_background": "light"
          }
        }
      ],
      "source": [
        "# Display a image from training data set\n",
        "plt.imshow(images[0].numpy().squeeze(), cmap='gray_r');"
      ]
    },
    {
      "cell_type": "code",
      "execution_count": null,
      "metadata": {
        "colab": {
          "base_uri": "https://localhost:8080/",
          "height": 246
        },
        "id": "mWDjWBbbaRuD",
        "outputId": "1c3d93f1-00b8-46eb-f9d9-6be5d180fe3c"
      },
      "outputs": [
        {
          "output_type": "display_data",
          "data": {
            "image/png": "[encoded data removed]",
            "text/plain": [
              "<Figure size 432x288 with 60 Axes>"
            ]
          },
          "metadata": {
            "needs_background": "light"
          }
        }
      ],
      "source": [
        "# Display 60 images from training data set in a grid and in a random order\n",
        "figure = plt.figure()\n",
        "num_of_images = 60\n",
        "for index in range(1, num_of_images + 1):\n",
        "    plt.subplot(6, 10, index)\n",
        "    plt.axis('off')\n",
        "    plt.imshow(images[index].numpy().squeeze(), cmap='gray_r')"
      ]
    },
    {
      "cell_type": "code",
      "execution_count": null,
      "metadata": {
        "colab": {
          "base_uri": "https://localhost:8080/"
        },
        "id": "_WvGnFksaSLk",
        "outputId": "bd80771b-9190-412b-dc43-4554ce9e47bd"
      },
      "outputs": [
        {
          "output_type": "stream",
          "name": "stdout",
          "text": [
            "Sequential(\n",
            "  (0): Linear(in_features=784, out_features=128, bias=True)\n",
            "  (1): ReLU()\n",
            "  (2): Linear(in_features=128, out_features=128, bias=True)\n",
            "  (3): ReLU()\n",
            "  (4): Linear(in_features=128, out_features=128, bias=True)\n",
            "  (5): ReLU()\n",
            "  (6): Linear(in_features=128, out_features=64, bias=True)\n",
            "  (7): ReLU()\n",
            "  (8): Linear(in_features=64, out_features=26, bias=True)\n",
            "  (9): LogSoftmax(dim=1)\n",
            ")\n"
          ]
        }
      ],
      "source": [
        "input_size = 784\n",
        "hidden_sizes = [128, 128, 128, 64]\n",
        "output_size = 26\n",
        "\n",
        "model = nn.Sequential(nn.Linear(input_size, hidden_sizes[0]),\n",
        "                      nn.ReLU(),\n",
        "                      nn.Linear(hidden_sizes[0], hidden_sizes[1]),\n",
        "                      nn.ReLU(),\n",
        "                      nn.Linear(hidden_sizes[1], hidden_sizes[2]),\n",
        "                      nn.ReLU(),\n",
        "                      nn.Linear(hidden_sizes[2], hidden_sizes[3]),\n",
        "                      nn.ReLU(),\n",
        "                      nn.Linear(hidden_sizes[3], output_size),\n",
        "                      nn.LogSoftmax(dim=1))\n",
        "print(model)\n",
        "# output layer uses LogSoftmax activation function (classification problem)"
      ]
    },
    {
      "cell_type": "code",
      "execution_count": null,
      "metadata": {
        "colab": {
          "base_uri": "https://localhost:8080/"
        },
        "id": "GkQ1ZwrdaUKT",
        "outputId": "5b752cff-672c-4d52-d20f-fdac8f478c61"
      },
      "outputs": [
        {
          "output_type": "stream",
          "name": "stdout",
          "text": [
            "cuda\n"
          ]
        },
        {
          "output_type": "execute_result",
          "data": {
            "text/plain": [
              "Sequential(\n",
              "  (0): Linear(in_features=784, out_features=128, bias=True)\n",
              "  (1): ReLU()\n",
              "  (2): Linear(in_features=128, out_features=128, bias=True)\n",
              "  (3): ReLU()\n",
              "  (4): Linear(in_features=128, out_features=128, bias=True)\n",
              "  (5): ReLU()\n",
              "  (6): Linear(in_features=128, out_features=64, bias=True)\n",
              "  (7): ReLU()\n",
              "  (8): Linear(in_features=64, out_features=26, bias=True)\n",
              "  (9): LogSoftmax(dim=1)\n",
              ")"
            ]
          },
          "metadata": {},
          "execution_count": 9
        }
      ],
      "source": [
        "# activating GPU (if any)\n",
        "device = torch.device(\"cuda\" if torch.cuda.is_available() else \"cpu\")\n",
        "print(device)\n",
        "model.to(device)"
      ]
    },
    {
      "cell_type": "code",
      "execution_count": null,
      "metadata": {
        "colab": {
          "base_uri": "https://localhost:8080/"
        },
        "id": "wVELfDFMaXF4",
        "outputId": "470568f5-407f-4af0-c6a8-c62f22fc0049"
      },
      "outputs": [
        {
          "output_type": "stream",
          "name": "stdout",
          "text": [
            "torch.Size([64, 1, 28, 28])\n",
            "NLLLoss()\n",
            "torch.Size([64, 784])\n",
            "torch.Size([64])\n"
          ]
        }
      ],
      "source": [
        "criterion = nn.NLLLoss()  # negative log-likelihood loss functions is used\n",
        "#images, labels = next(iter(trainloader))  # iter call __iter__() onthe trainloader returning an iterator, next call __next__() method to get the next batches\n",
        "print(images.shape)\n",
        "print(criterion)\n",
        "images = images.view(images.shape[0], -1) # view changes the view of the data, in this case it changes the shape of the images (flattening out the images)\n",
        "print(images.shape)\n",
        "print(labels.shape)\n",
        "logps = model(images.cuda()) #log probabilities\n",
        "loss = criterion(logps, labels.cuda()) #calculate the NLL loss\n"
      ]
    },
    {
      "cell_type": "code",
      "execution_count": null,
      "metadata": {
        "id": "7gcHvDlxafOL"
      },
      "outputs": [],
      "source": [
        "# import optimizer\n",
        "from torch import optim\n",
        "\n",
        "# Optimizers require the parameters to optimize and a learning rate\n",
        "optimizer = optim.SGD(model.parameters(), lr=0.001, momentum=0.5)"
      ]
    },
    {
      "cell_type": "code",
      "execution_count": null,
      "metadata": {
        "colab": {
          "base_uri": "https://localhost:8080/"
        },
        "id": "bslj9I7Jakb0",
        "outputId": "c395160e-cfde-44fe-ffef-d7b8fcc8198d"
      },
      "outputs": [
        {
          "output_type": "stream",
          "name": "stdout",
          "text": [
            "torch.Size([64, 784])\n",
            "tensor([ 3, 23, 18, 20,  9, 16, 15,  1,  4, 18, 11, 25,  7,  2, 15,  5,  3,  0,\n",
            "        22, 16,  4, 14, 22, 13,  3, 10, 12, 23,  5, 15, 23, 24, 21, 20, 11,  4,\n",
            "        23,  9, 11, 14,  8,  9,  3, 23,  9, 20,  4, 23, 23,  8, 20, 24, 22,  2,\n",
            "        23,  2,  1, 23,  6, 22,  0, 13,  9, 13])\n",
            "Epoch 0 - Training loss: 2.1354562094578378\n",
            "Epoch 1 - Training loss: 0.7728896334538093\n",
            "Epoch 2 - Training loss: 0.5320248759098543\n",
            "Epoch 3 - Training loss: 0.43419005766893043\n",
            "Epoch 4 - Training loss: 0.37560882759399905\n",
            "Epoch 5 - Training loss: 0.3390188356508047\n",
            "Epoch 6 - Training loss: 0.3107792934202231\n",
            "Epoch 7 - Training loss: 0.2902975990069218\n",
            "Epoch 8 - Training loss: 0.2706490369293934\n",
            "Epoch 9 - Training loss: 0.25846460689527867\n",
            "Epoch 10 - Training loss: 0.24448266500081772\n",
            "Epoch 11 - Training loss: 0.23482393875336036\n",
            "Epoch 12 - Training loss: 0.2237166444498759\n",
            "Epoch 13 - Training loss: 0.21591258980906927\n",
            "Epoch 14 - Training loss: 0.20846596013277005\n",
            "Epoch 15 - Training loss: 0.20285901569594175\n",
            "Epoch 16 - Training loss: 0.19553358122515374\n",
            "Epoch 17 - Training loss: 0.18700117563398985\n",
            "Epoch 18 - Training loss: 0.1827425361673037\n",
            "Epoch 19 - Training loss: 0.17706338026393684\n",
            "Epoch 20 - Training loss: 0.17152375420985314\n",
            "Epoch 21 - Training loss: 0.16717380180954933\n",
            "Epoch 22 - Training loss: 0.16180807338502162\n",
            "Epoch 23 - Training loss: 0.15741172345307394\n",
            "Epoch 24 - Training loss: 0.152434126675511\n",
            "Epoch 25 - Training loss: 0.14976131016245256\n",
            "Epoch 26 - Training loss: 0.14621954188610498\n",
            "Epoch 27 - Training loss: 0.1423730154421467\n",
            "Epoch 28 - Training loss: 0.13809328167627638\n",
            "Epoch 29 - Training loss: 0.13469228516977566\n",
            "\n",
            "Training Time (in minutes) = 9.56483254035314\n"
          ]
        }
      ],
      "source": [
        "# training process\n",
        "\n",
        "optimizer = optim.SGD(model.parameters(), lr=0.003, momentum=0.9)\n",
        "time0 = time()\n",
        "epochs = 30\n",
        "print(images.shape)\n",
        "print(labels)\n",
        "for e in range(epochs):\n",
        "    running_loss = 0\n",
        "    for images, labels in trainloader:\n",
        "        # Flatten MNIST images into a 784 long vector\n",
        "        images = images.view(images.shape[0], -1)\n",
        "        # Training pass\n",
        "        optimizer.zero_grad()\n",
        "\n",
        "        output = model(images.cuda())\n",
        "        loss = criterion(output, labels.cuda())\n",
        "\n",
        "        #This is where the model learns by backpropagating\n",
        "        loss.backward()\n",
        "\n",
        "        #And optimizes its weights here\n",
        "        optimizer.step()\n",
        "\n",
        "        running_loss += loss.item()\n",
        "    else:\n",
        "        print(\"Epoch {} - Training loss: {}\".format(e, running_loss/len(trainloader)))\n",
        "print(\"\\nTraining Time (in minutes) =\",(time()-time0)/60)"
      ]
    },
    {
      "cell_type": "code",
      "execution_count": null,
      "metadata": {
        "id": "b5pr5TbWalAN"
      },
      "outputs": [],
      "source": [
        "def view_classify(img, ps):\n",
        "    ''' Function for viewing an image and it's predicted classes.\n",
        "    '''\n",
        "    ps = ps.cpu().data.numpy().squeeze()\n",
        "    alphabet = ('A','B','C','D','E','F','G','H','I','J','K','L','M','N','O','P','Q','R','S','T','U','V','W','X','Y','Z')\n",
        "\n",
        "    y_pos = np.arange(len(alphabet))\n",
        "    fig, (ax1, ax2) = plt.subplots(figsize=(6,9), ncols=2)\n",
        "    ax1.imshow(img.resize_(1, 28, 28).numpy().squeeze())\n",
        "    ax1.axis('off')\n",
        "    ax2.barh(y_pos, ps)\n",
        "    ax2.set_aspect(0.1)\n",
        "    ax2.set_yticks(y_pos)\n",
        "    ax2.set_yticklabels(alphabet)\n",
        "    ax2.set_title('Class Probability')\n",
        "    ax2.set_xlim(0, 1.1)\n",
        "    plt.tight_layout()"
      ]
    },
    {
      "cell_type": "code",
      "execution_count": null,
      "metadata": {
        "id": "UdaJIVTvamon",
        "colab": {
          "base_uri": "https://localhost:8080/",
          "height": 575
        },
        "outputId": "0d1bb0c6-0945-4c67-d012-528b5ac0453b"
      },
      "outputs": [
        {
          "output_type": "stream",
          "name": "stdout",
          "text": [
            "Predicted Letter = 23\n"
          ]
        },
        {
          "output_type": "display_data",
          "data": {
            "image/png": "[encoded data removed]",
            "text/plain": [
              "<Figure size 432x648 with 2 Axes>"
            ]
          },
          "metadata": {
            "needs_background": "light"
          }
        }
      ],
      "source": [
        "images, labels = next(iter(valloader))\n",
        "\n",
        "img = images[0].view(1, 784)\n",
        "# Turn off gradients to speed up this part\n",
        "with torch.no_grad():\n",
        "    logps = model(img.cuda())\n",
        "\n",
        "# Output of the network are log-probabilities, need to take exponential for probabilities\n",
        "ps = torch.exp(logps)\n",
        "probab = list(ps.cpu().numpy()[0])\n",
        "print(\"Predicted Letter =\", probab.index(max(probab)))\n",
        "view_classify(img.view(1, 28, 28), ps)"
      ]
    },
    {
      "cell_type": "code",
      "execution_count": null,
      "metadata": {
        "id": "b4DZMykaapYO",
        "colab": {
          "base_uri": "https://localhost:8080/"
        },
        "outputId": "cda72068-b75d-4654-cf6d-f6f9ed136eeb"
      },
      "outputs": [
        {
          "output_type": "stream",
          "name": "stdout",
          "text": [
            "Number Of Images Tested = 20800\n",
            "\n",
            "Model Accuracy = 0.9128365384615384\n"
          ]
        }
      ],
      "source": [
        "# iterate the trained model through the validation data and calculate the total number of correct predictions\n",
        "correct_count, all_count = 0, 0\n",
        "for images,labels in valloader:\n",
        "  for i in range(len(labels)):\n",
        "    img = images[i].view(1, 784)\n",
        "    # Turn off gradients to speed up this part\n",
        "    with torch.no_grad():\n",
        "        logps = model(img.cuda())\n",
        "\n",
        "    # Output of the network are log-probabilities, need to take exponential for probabilities\n",
        "    ps = torch.exp(logps)\n",
        "    probab = list(ps.cpu().numpy()[0])\n",
        "    pred_label = probab.index(max(probab))\n",
        "    true_label = labels.numpy()[i]\n",
        "    if(true_label == pred_label):\n",
        "      correct_count += 1\n",
        "    all_count += 1\n",
        "\n",
        "print(\"Number Of Images Tested =\", all_count)\n",
        "print(\"\\nModel Accuracy =\", (correct_count/all_count))"
      ]
    },
    {
      "cell_type": "code",
      "execution_count": null,
      "metadata": {
        "id": "KMPZQpdiaqrO"
      },
      "outputs": [],
      "source": [
        "# save the model\n",
        "torch.save(model, 'gdrive/MyDrive/Independept_Study_Physics_Informed_Deep_Learning/Digit_rec_MNIST/my_mnist_model.pt')"
      ]
    }
  ],
  "metadata": {
    "accelerator": "GPU",
    "colab": {
      "provenance": []
    },
    "kernelspec": {
      "display_name": "Python 3",
      "name": "python3"
    },
    "language_info": {
      "name": "python"
    }
  },
  "nbformat": 4,
  "nbformat_minor": 0
}